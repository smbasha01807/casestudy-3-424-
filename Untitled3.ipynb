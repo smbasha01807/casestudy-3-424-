{
  "nbformat": 4,
  "nbformat_minor": 0,
  "metadata": {
    "colab": {
      "provenance": [],
      "authorship_tag": "ABX9TyMzMU6LbvFCIR1RwU2Kv8nK",
      "include_colab_link": true
    },
    "kernelspec": {
      "name": "python3",
      "display_name": "Python 3"
    },
    "language_info": {
      "name": "python"
    }
  },
  "cells": [
    {
      "cell_type": "markdown",
      "metadata": {
        "id": "view-in-github",
        "colab_type": "text"
      },
      "source": [
        "<a href=\"https://colab.research.google.com/github/smbasha01807/casestudy-3-424-/blob/main/Untitled3.ipynb\" target=\"_parent\"><img src=\"https://colab.research.google.com/assets/colab-badge.svg\" alt=\"Open In Colab\"/></a>"
      ]
    },
    {
      "cell_type": "code",
      "execution_count": null,
      "metadata": {
        "colab": {
          "base_uri": "https://localhost:8080/"
        },
        "id": "x00W1Xz0sj0P",
        "outputId": "d2be9b5f-aced-4fd2-9d46-526006f496fc"
      },
      "outputs": [
        {
          "output_type": "stream",
          "name": "stdout",
          "text": [
            "    EAR  blinkrate  yawncount  time  result\n",
            "0  0.30         10          1     9  Drowsy\n",
            "1  0.50         15          0    13   Alert\n",
            "2  0.25         12          2     8  Drowsy\n",
            "3  0.60          5          0    19   Alert\n",
            "4  0.28          8          1    14  Drowsy\n",
            "5  0.70          3          3    20   Alert\n",
            "6  0.35          9          1     7  Drowsy\n",
            "7  0.40          7          0    17   Alert\n",
            "['Alert']\n",
            "0.875\n"
          ]
        },
        {
          "output_type": "stream",
          "name": "stderr",
          "text": [
            "/usr/local/lib/python3.10/dist-packages/sklearn/neighbors/_classification.py:238: DataConversionWarning: A column-vector y was passed when a 1d array was expected. Please change the shape of y to (n_samples,), for example using ravel().\n",
            "  return self._fit(X, y)\n",
            "/usr/local/lib/python3.10/dist-packages/sklearn/base.py:493: UserWarning: X does not have valid feature names, but KNeighborsClassifier was fitted with feature names\n",
            "  warnings.warn(\n"
          ]
        }
      ],
      "source": [
        "import pandas as basha\n",
        "from sklearn.neighbors import KNeighborsClassifier # KNeighborsClassifier was misspelled\n",
        "maha=basha.read_csv('drowsy.csv')\n",
        "print(maha)\n",
        "feature=basha.read_csv(\"drowsy.csv\",usecols=[0,1,2,3]) # removed extra read\n",
        "label=basha.read_csv(\"drowsy.csv\",usecols=[4])\n",
        "\n",
        "vijay=KNeighborsClassifier(n_neighbors=2) # Fixed the typo here as well\n",
        "vijay.fit(feature,label)\n",
        "print(vijay.predict([[0.7,3,3,20]]))\n",
        "print(vijay.score(feature,label))"
      ]
    }
  ]
}